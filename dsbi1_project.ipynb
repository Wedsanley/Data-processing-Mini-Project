{
  "nbformat": 4,
  "nbformat_minor": 0,
  "metadata": {
    "colab": {
      "name": "dsbi1_project.ipynb",
      "provenance": [],
      "collapsed_sections": []
    },
    "kernelspec": {
      "name": "python3",
      "display_name": "Python 3.9.5 64-bit"
    },
    "language_info": {
      "name": "python",
      "version": "3.9.5"
    },
    "interpreter": {
      "hash": "2566ab4d92dd3d6a3e5a10d7edb08e209a170cfb8b5468f0a965eee79a4493bb"
    }
  },
  "cells": [
    {
      "cell_type": "code",
      "metadata": {
        "id": "zdkiZ3_quCEI"
      },
      "source": [
        "import pandas as pd\n",
        "import numpy as np\n",
        "from matplotlib import pyplot as plt\n",
        "import re as re\n",
        "import seaborn as sns\n",
        "import datetime as dt\n",
        "import openpyxl\n",
        "import xlrd"
      ],
      "execution_count": 129,
      "outputs": []
    },
    {
      "cell_type": "markdown",
      "metadata": {
        "id": "yt5BXipuPWH-",
        "outputId": "3e4d796f-b6c0-4bae-9db4-6eaee6dc51ad"
      },
      "source": [
        "**Ayiti Analytics Data Processing Bootcamp**\n",
        "\n",
        "Ayiti Analytics Data wants to expand its training centers throughout all the communes of the country. Your role as a data analyst is to help them realize this dream.\n",
        "\n",
        "Its objective is to know which three communes of the country will be the most likely to expand its training centers.\n",
        "\n",
        "1. Knowing that each cohort must have 30 students\n",
        "\n",
        "2. How many applications must be made to select 25% women for each on average\n",
        "\n",
        "3. What are the most effective communication channels (Alumni, Facebook, WhatsApp, Friend ...) that will allow a student to be susceptible to selection\n",
        "\n",
        "4. What is the average number of university students who should participate in this program\n",
        "\n",
        "5. What will be the average number of applications per week that we could have?\n",
        "How many weeks should we extend the application process to select 60 students per commune?\n",
        "If we were to do all the bootcamp online, who would be the best communes and how many applications would we need to select 30 student and what percentage of students would have a laptop, an internet connection, both at the same time\n",
        "6. What are the most effective communication channels (Alumni, Facebook, WhatsApp, Friend ...) that will allow a women to be susceptible to selection\n",
        "NB\n",
        "Use the same framework of the BA project to complete this project"
      ]
    },
    {
      "cell_type": "code",
      "metadata": {
        "id": "nTkAVYnvRIP6"
      },
      "source": [
        "commune=pd.read_excel(r\"commune.xlsx\")\n",
        "enroll = pd.read_csv(r\"enroll.csv\")\n",
        "quest = pd.read_csv(r\"quest.csv\")\n",
        "industry = pd.read_csv(r\"industry.csv\")\n",
        "ord = pd.read_csv(r\"ord.csv\")\n",
        "study_domain = pd.read_csv(r\"study_domain.csv\")\n",
        "transaction = pd.read_csv(r\"transaction.csv\")\n",
        "technology = pd.read_csv(r\"technology.csv\")\n"
      ],
      "execution_count": 130,
      "outputs": []
    },
    {
      "cell_type": "code",
      "metadata": {
        "id": "J9JSfzBQFzE0"
      },
      "source": [
        "def dummies_create(data, value):\n",
        "  x=pd.get_dummies(data=data, columns=value, prefix=\"\", prefix_sep=\"\")\n",
        "  y=x.groupby(\"quest_id\").sum()\n",
        "  return y"
      ],
      "execution_count": 131,
      "outputs": []
    },
    {
      "cell_type": "code",
      "metadata": {
        "id": "am5ZaddEfPCZ"
      },
      "source": [
        "study_domain2 = dummies_create(study_domain[[\"key\", \"quest_id\", \"values\"]], [\"values\"])\n",
        "technology2 = dummies_create(technology[[\"key\", \"quest_id\", \"values\"]], ['values'])\n",
        "industry2 = dummies_create(industry[[\"key\", \"quest_id\", \"values\"]], ['values'])"
      ],
      "execution_count": 132,
      "outputs": []
    },
    {
      "cell_type": "code",
      "metadata": {
        "id": "6P3nTTGHp70f",
        "colab": {
          "base_uri": "https://localhost:8080/"
        },
        "outputId": "fa0b8465-6356-4c90-ccca-19daf1bba7cd"
      },
      "source": [
        "quest.drop(['Unnamed: 0', 'modified_at',\"study_domain\", 'department'], axis=1, inplace = True)\n",
        "quest.rename(columns={'created_at':\"signup_date\", 'hear_AA_1': \"chanels\", \"after_AA\":\"Project\" },inplace = True )\n",
        "quest[\"signup_date\"] = quest[\"signup_date\"].str[:10]\n",
        "print(f\"The number of appliants in the bootcamp is {len(quest)}.\")"
      ],
      "execution_count": 133,
      "outputs": [
        {
          "output_type": "stream",
          "text": [
            "The number of appliants in the bootcamp is 250.\n"
          ],
          "name": "stdout"
        }
      ]
    },
    {
      "cell_type": "code",
      "metadata": {
        "id": "y2cAQWFg46WV"
      },
      "source": [
        "quest[\"dob\"].replace({\"3 aout 1977\": \"3/08/1977\"}, inplace=True)\n",
        "quest[\"dob\"] = pd.to_datetime(quest[\"dob\"])\n",
        "quest[\"signup_date\"] = pd.to_datetime(quest[\"signup_date\"])"
      ],
      "execution_count": 134,
      "outputs": []
    },
    {
      "cell_type": "code",
      "metadata": {
        "id": "3ICUNyyW46WW"
      },
      "source": [
        "quest[\"age\"] = (-(quest[\"dob\"]-quest[\"signup_date\"])//365)\n",
        "quest[\"age\"] = quest[\"age\"].apply(lambda x: str(x)[:2])\n",
        "age=quest[\"age\"].tolist()\n",
        "age = [0 if val == \"Na\" else val for val in age]\n",
        "age = [int(val) for val in age]\n",
        "age = [sum(age)/len(age) if (val == 0 or val == 1.0 or val ==-1.0) else val for val in age]\n",
        "quest[\"age\"]= age"
      ],
      "execution_count": 135,
      "outputs": []
    },
    {
      "cell_type": "code",
      "metadata": {
        "id": "LfEmi7z_MxTQ",
        "colab": {
          "base_uri": "https://localhost:8080/"
        },
        "outputId": "49ca0adb-82e7-440b-adfd-5caa6f5b7a88"
      },
      "source": [
        "ord[\"paid\"] = \"Carte\"\n",
        "transaction[\"paid\"] = \"MonCash\"\n",
        "print(f\"{len(enroll)} people enrolled in the course Introduction to Data Science, {len(ord)} paid by credit card and {len(transaction)} paid by moncash.\" )\n",
        "print(\"We notice that not all enrolled necessarly apply for the bootcamp.\")"
      ],
      "execution_count": 136,
      "outputs": [
        {
          "output_type": "stream",
          "text": [
            "148 people enrolled in the course Introduction to Data Science, 18 paid by credit card and 60 paid by moncash.\n",
            "We notice that not all enrolled necessarly apply for the bootcamp.\n"
          ],
          "name": "stdout"
        }
      ]
    },
    {
      "cell_type": "code",
      "metadata": {
        "id": "e4KKAeyT46WX"
      },
      "source": [
        "data = pd.merge(left = enroll, right = ord, how=\"left\", on=\"quest_id\")\n",
        "#dta = pd.merge(left = data, right = transaction, how=\"left\", on=\"user_id\")\n",
        "#d = pd.merge(left=quest, right=dta, how = \"left\", on=\"quest_id\")\n",
        "#print(data.info())"
      ],
      "execution_count": 137,
      "outputs": []
    },
    {
      "cell_type": "code",
      "metadata": {
        "id": "hnIVD6MN46WY"
      },
      "source": [
        "commune[\"Commune_Id\"] = commune[\"Commune_Id\"].str.lower()\n",
        "commune.rename(columns = {\"Commune_Id\": \"commune\"}, inplace = True)"
      ],
      "execution_count": 138,
      "outputs": []
    },
    {
      "cell_type": "code",
      "metadata": {
        "id": "bzFD0CvfNrZ1",
        "colab": {
          "base_uri": "https://localhost:8080/",
          "height": 301
        },
        "outputId": "cc8cabfa-6b8b-4a8d-9ffd-ac39ae592310"
      },
      "source": [
        "result=pd.merge(left=quest, right=enroll[[\"percentage_completed\",\"completed\", \"quest_id\"]], how = 'left',on='quest_id')\n",
        "result=pd.merge(left=result, right=study_domain2, how = 'left',on='quest_id')\n",
        "result=pd.merge(left=result, right=technology2, how = 'left',on='quest_id')\n",
        "result=pd.merge(left=result, right=industry2, how = 'left',on='quest_id')\n",
        "result=pd.merge(left=result, right=commune[[\"Commune_FR\",\"Departement\", \"commune\"]], how = 'left',on='commune')\n",
        "result.head(2)"
      ],
      "execution_count": 139,
      "outputs": [
        {
          "output_type": "execute_result",
          "data": {
            "text/html": [
              "<div>\n",
              "<style scoped>\n",
              "    .dataframe tbody tr th:only-of-type {\n",
              "        vertical-align: middle;\n",
              "    }\n",
              "\n",
              "    .dataframe tbody tr th {\n",
              "        vertical-align: top;\n",
              "    }\n",
              "\n",
              "    .dataframe thead th {\n",
              "        text-align: right;\n",
              "    }\n",
              "</style>\n",
              "<table border=\"1\" class=\"dataframe\">\n",
              "  <thead>\n",
              "    <tr style=\"text-align: right;\">\n",
              "      <th></th>\n",
              "      <th>gender</th>\n",
              "      <th>dob</th>\n",
              "      <th>commune</th>\n",
              "      <th>signup_date</th>\n",
              "      <th>education_level</th>\n",
              "      <th>university</th>\n",
              "      <th>current_employed</th>\n",
              "      <th>formal_sector_job</th>\n",
              "      <th>have_computer_home</th>\n",
              "      <th>internet_at_home</th>\n",
              "      <th>chanels</th>\n",
              "      <th>Project</th>\n",
              "      <th>quest_id</th>\n",
              "      <th>age</th>\n",
              "      <th>percentage_completed</th>\n",
              "      <th>completed</th>\n",
              "      <th>Accounting</th>\n",
              "      <th>Computer Science</th>\n",
              "      <th>Economics</th>\n",
              "      <th>Electrical Engineering</th>\n",
              "      <th>Law</th>\n",
              "      <th>Management</th>\n",
              "      <th>Medicine</th>\n",
              "      <th>Statistics</th>\n",
              "      <th>other_x</th>\n",
              "      <th>Bash</th>\n",
              "      <th>Excel</th>\n",
              "      <th>Git</th>\n",
              "      <th>Java</th>\n",
              "      <th>JavaScript</th>\n",
              "      <th>PHP</th>\n",
              "      <th>PowerBI or Tableau</th>\n",
              "      <th>Python</th>\n",
              "      <th>R</th>\n",
              "      <th>SQL</th>\n",
              "      <th>VBA</th>\n",
              "      <th>other_y</th>\n",
              "      <th>Communications</th>\n",
              "      <th>Consulting</th>\n",
              "      <th>Education</th>\n",
              "      <th>Energy</th>\n",
              "      <th>Finance</th>\n",
              "      <th>Healthcare</th>\n",
              "      <th>Insurance</th>\n",
              "      <th>Manufacturing</th>\n",
              "      <th>Marketing</th>\n",
              "      <th>Public Sector/ Non-Profit Agencies</th>\n",
              "      <th>Retail/ E-Commerce</th>\n",
              "      <th>Technology (Software/ Internet)</th>\n",
              "      <th>Transportation</th>\n",
              "      <th>other</th>\n",
              "      <th>Commune_FR</th>\n",
              "      <th>Departement</th>\n",
              "    </tr>\n",
              "  </thead>\n",
              "  <tbody>\n",
              "    <tr>\n",
              "      <th>0</th>\n",
              "      <td>male</td>\n",
              "      <td>1998-08-25</td>\n",
              "      <td>ht0111</td>\n",
              "      <td>2021-02-14</td>\n",
              "      <td>unknown</td>\n",
              "      <td>unknown</td>\n",
              "      <td>unknown</td>\n",
              "      <td>unknown</td>\n",
              "      <td>unknown</td>\n",
              "      <td>unknown</td>\n",
              "      <td>unknown</td>\n",
              "      <td>unknown</td>\n",
              "      <td>905dc006-ce95-11eb-b2f9-7c67a234f601</td>\n",
              "      <td>22.0</td>\n",
              "      <td>0.0</td>\n",
              "      <td>False</td>\n",
              "      <td>NaN</td>\n",
              "      <td>NaN</td>\n",
              "      <td>NaN</td>\n",
              "      <td>NaN</td>\n",
              "      <td>NaN</td>\n",
              "      <td>NaN</td>\n",
              "      <td>NaN</td>\n",
              "      <td>NaN</td>\n",
              "      <td>NaN</td>\n",
              "      <td>NaN</td>\n",
              "      <td>NaN</td>\n",
              "      <td>NaN</td>\n",
              "      <td>NaN</td>\n",
              "      <td>NaN</td>\n",
              "      <td>NaN</td>\n",
              "      <td>NaN</td>\n",
              "      <td>NaN</td>\n",
              "      <td>NaN</td>\n",
              "      <td>NaN</td>\n",
              "      <td>NaN</td>\n",
              "      <td>NaN</td>\n",
              "      <td>NaN</td>\n",
              "      <td>NaN</td>\n",
              "      <td>NaN</td>\n",
              "      <td>NaN</td>\n",
              "      <td>NaN</td>\n",
              "      <td>NaN</td>\n",
              "      <td>NaN</td>\n",
              "      <td>NaN</td>\n",
              "      <td>NaN</td>\n",
              "      <td>NaN</td>\n",
              "      <td>NaN</td>\n",
              "      <td>NaN</td>\n",
              "      <td>NaN</td>\n",
              "      <td>NaN</td>\n",
              "      <td>Port-au-Prince</td>\n",
              "      <td>West</td>\n",
              "    </tr>\n",
              "    <tr>\n",
              "      <th>1</th>\n",
              "      <td>female</td>\n",
              "      <td>1996-09-29</td>\n",
              "      <td>ht0111</td>\n",
              "      <td>2021-02-16</td>\n",
              "      <td>Bachelors (bacc +4)</td>\n",
              "      <td>other</td>\n",
              "      <td>No</td>\n",
              "      <td>unknown</td>\n",
              "      <td>Yes</td>\n",
              "      <td>Yes</td>\n",
              "      <td>Friend</td>\n",
              "      <td>Finding a job/internship</td>\n",
              "      <td>905ddcf2-ce95-11eb-9a92-7c67a234f601</td>\n",
              "      <td>24.0</td>\n",
              "      <td>NaN</td>\n",
              "      <td>NaN</td>\n",
              "      <td>0.0</td>\n",
              "      <td>0.0</td>\n",
              "      <td>0.0</td>\n",
              "      <td>0.0</td>\n",
              "      <td>0.0</td>\n",
              "      <td>0.0</td>\n",
              "      <td>0.0</td>\n",
              "      <td>0.0</td>\n",
              "      <td>1.0</td>\n",
              "      <td>0.0</td>\n",
              "      <td>1.0</td>\n",
              "      <td>0.0</td>\n",
              "      <td>0.0</td>\n",
              "      <td>0.0</td>\n",
              "      <td>0.0</td>\n",
              "      <td>0.0</td>\n",
              "      <td>0.0</td>\n",
              "      <td>1.0</td>\n",
              "      <td>0.0</td>\n",
              "      <td>0.0</td>\n",
              "      <td>0.0</td>\n",
              "      <td>0.0</td>\n",
              "      <td>0.0</td>\n",
              "      <td>0.0</td>\n",
              "      <td>0.0</td>\n",
              "      <td>1.0</td>\n",
              "      <td>0.0</td>\n",
              "      <td>0.0</td>\n",
              "      <td>0.0</td>\n",
              "      <td>0.0</td>\n",
              "      <td>0.0</td>\n",
              "      <td>0.0</td>\n",
              "      <td>0.0</td>\n",
              "      <td>0.0</td>\n",
              "      <td>0.0</td>\n",
              "      <td>Port-au-Prince</td>\n",
              "      <td>West</td>\n",
              "    </tr>\n",
              "  </tbody>\n",
              "</table>\n",
              "</div>"
            ],
            "text/plain": [
              "   gender        dob commune  ... other      Commune_FR Departement\n",
              "0    male 1998-08-25  ht0111  ...   NaN  Port-au-Prince        West\n",
              "1  female 1996-09-29  ht0111  ...   0.0  Port-au-Prince        West\n",
              "\n",
              "[2 rows x 53 columns]"
            ]
          },
          "metadata": {
            "tags": []
          },
          "execution_count": 139
        }
      ]
    },
    {
      "cell_type": "code",
      "metadata": {
        "colab": {
          "base_uri": "https://localhost:8080/",
          "height": 301
        },
        "id": "kTNqdCox9lSh",
        "outputId": "66ebcf8b-f97b-4d6d-cc1b-48f6a2cd82ea"
      },
      "source": [
        "ord.head(2)\n",
        "ord1 = ord.rename(columns = {'created_at': 'createdord'}, inplace = True)\n",
        "transaction.rename(columns = {'created_at': 'createdtrans'}, inplace = True)\n",
        "print(transaction.columns)\n",
        "ord.head(2)"
      ],
      "execution_count": 140,
      "outputs": [
        {
          "output_type": "stream",
          "text": [
            "Index(['Column1', 'createdtrans', 'modified_at', 'user_id', 'course_id',\n",
            "       'transaction_id', 'paid'],\n",
            "      dtype='object')\n"
          ],
          "name": "stdout"
        },
        {
          "output_type": "execute_result",
          "data": {
            "text/html": [
              "<div>\n",
              "<style scoped>\n",
              "    .dataframe tbody tr th:only-of-type {\n",
              "        vertical-align: middle;\n",
              "    }\n",
              "\n",
              "    .dataframe tbody tr th {\n",
              "        vertical-align: top;\n",
              "    }\n",
              "\n",
              "    .dataframe thead th {\n",
              "        text-align: right;\n",
              "    }\n",
              "</style>\n",
              "<table border=\"1\" class=\"dataframe\">\n",
              "  <thead>\n",
              "    <tr style=\"text-align: right;\">\n",
              "      <th></th>\n",
              "      <th>Unnamed: 0</th>\n",
              "      <th>createdord</th>\n",
              "      <th>user_id</th>\n",
              "      <th>product_name</th>\n",
              "      <th>product_id</th>\n",
              "      <th>amount_dollars</th>\n",
              "      <th>amount_cents</th>\n",
              "      <th>subscription</th>\n",
              "      <th>coupon_code</th>\n",
              "      <th>coupon_id</th>\n",
              "      <th>affiliate_referral_code</th>\n",
              "      <th>status</th>\n",
              "      <th>quest_id</th>\n",
              "      <th>paid</th>\n",
              "    </tr>\n",
              "  </thead>\n",
              "  <tbody>\n",
              "    <tr>\n",
              "      <th>0</th>\n",
              "      <td>0</td>\n",
              "      <td>2021-03-14T15:34:35.014Z</td>\n",
              "      <td>41587952</td>\n",
              "      <td>Entwodiksyon Nan Syans Done</td>\n",
              "      <td>1100636</td>\n",
              "      <td>20</td>\n",
              "      <td>2000</td>\n",
              "      <td>False</td>\n",
              "      <td>NaN</td>\n",
              "      <td>NaN</td>\n",
              "      <td>NaN</td>\n",
              "      <td>Complete</td>\n",
              "      <td>906b3c86-ce95-11eb-b6a7-7c67a234f601</td>\n",
              "      <td>Carte</td>\n",
              "    </tr>\n",
              "    <tr>\n",
              "      <th>1</th>\n",
              "      <td>1</td>\n",
              "      <td>2021-03-14T04:20:23.483Z</td>\n",
              "      <td>41564742</td>\n",
              "      <td>Entwodiksyon Nan Syans Done</td>\n",
              "      <td>1100636</td>\n",
              "      <td>20</td>\n",
              "      <td>2000</td>\n",
              "      <td>False</td>\n",
              "      <td>NaN</td>\n",
              "      <td>NaN</td>\n",
              "      <td>NaN</td>\n",
              "      <td>Complete</td>\n",
              "      <td>906636cf-ce95-11eb-8679-7c67a234f601</td>\n",
              "      <td>Carte</td>\n",
              "    </tr>\n",
              "  </tbody>\n",
              "</table>\n",
              "</div>"
            ],
            "text/plain": [
              "   Unnamed: 0  ...   paid\n",
              "0           0  ...  Carte\n",
              "1           1  ...  Carte\n",
              "\n",
              "[2 rows x 14 columns]"
            ]
          },
          "metadata": {
            "tags": []
          },
          "execution_count": 140
        }
      ]
    },
    {
      "cell_type": "code",
      "metadata": {
        "colab": {
          "base_uri": "https://localhost:8080/",
          "height": 111
        },
        "id": "2pd-Ig14q9RQ",
        "outputId": "90908b78-b50b-4e8b-fafe-6f6fabfdea17"
      },
      "source": [
        "b=result.gender.value_counts(normalize=False).to_frame()\n",
        "b"
      ],
      "execution_count": 141,
      "outputs": [
        {
          "output_type": "execute_result",
          "data": {
            "text/html": [
              "<div>\n",
              "<style scoped>\n",
              "    .dataframe tbody tr th:only-of-type {\n",
              "        vertical-align: middle;\n",
              "    }\n",
              "\n",
              "    .dataframe tbody tr th {\n",
              "        vertical-align: top;\n",
              "    }\n",
              "\n",
              "    .dataframe thead th {\n",
              "        text-align: right;\n",
              "    }\n",
              "</style>\n",
              "<table border=\"1\" class=\"dataframe\">\n",
              "  <thead>\n",
              "    <tr style=\"text-align: right;\">\n",
              "      <th></th>\n",
              "      <th>gender</th>\n",
              "    </tr>\n",
              "  </thead>\n",
              "  <tbody>\n",
              "    <tr>\n",
              "      <th>male</th>\n",
              "      <td>203</td>\n",
              "    </tr>\n",
              "    <tr>\n",
              "      <th>female</th>\n",
              "      <td>47</td>\n",
              "    </tr>\n",
              "  </tbody>\n",
              "</table>\n",
              "</div>"
            ],
            "text/plain": [
              "        gender\n",
              "male       203\n",
              "female      47"
            ]
          },
          "metadata": {
            "tags": []
          },
          "execution_count": 141
        }
      ]
    },
    {
      "cell_type": "code",
      "metadata": {
        "colab": {
          "base_uri": "https://localhost:8080/"
        },
        "id": "kbebnrRzvGZr",
        "outputId": "019e982f-2ee2-4548-9cca-e336a2100a9c"
      },
      "source": [
        "data1 = pd.merge(left = quest, right = enroll, how=\"inner\")\n",
        "print(f\"The number of applicants who are enrolled in the course are {len(data1)}\")\n",
        "c=data1.gender.value_counts(normalize=False).to_frame()"
      ],
      "execution_count": 142,
      "outputs": [
        {
          "output_type": "stream",
          "text": [
            "The number of applicants who are enrolled in the course are 102\n"
          ],
          "name": "stdout"
        }
      ]
    },
    {
      "cell_type": "code",
      "metadata": {
        "id": "2sjQzbgi89jR",
        "colab": {
          "base_uri": "https://localhost:8080/"
        },
        "outputId": "c53be5f4-4b2b-41ff-d33a-6fd5dd32a256"
      },
      "source": [
        "ed = quest.education_level.value_counts().to_frame()\n",
        "ed[\"freq\"] = ed.education_level/ed.education_level.sum()\n",
        "ed_univ = ed.iloc[[0,3,5], :]\n",
        "a = ed_univ.freq.sum()\n",
        "print(f\"{a*100}% of the applicants are at least university students.\")\n",
        "b = a*30\n",
        "print(f\"{round(b, 0)} is the number of applicants, university students we should have with this assumption.\")"
      ],
      "execution_count": 143,
      "outputs": [
        {
          "output_type": "stream",
          "text": [
            "65.2% of the applicants are at least university students.\n",
            "20.0 is the number of applicants, university students we should have with this assumption.\n"
          ],
          "name": "stdout"
        }
      ]
    },
    {
      "cell_type": "code",
      "metadata": {
        "id": "-lyGp363OUpP"
      },
      "source": [
        "plt.style.use(\"ggplot\")"
      ],
      "execution_count": 144,
      "outputs": []
    },
    {
      "cell_type": "code",
      "metadata": {
        "colab": {
          "base_uri": "https://localhost:8080/",
          "height": 354
        },
        "id": "IwdtML4a2dwL",
        "outputId": "1a450747-72ba-4083-c887-74dd0294badd"
      },
      "source": [
        "plt.figure(figsize=(10,5))\n",
        "sns.histplot(data = quest,x=quest[\"age\"],kde=True,bins=20)\n",
        "plt.title(\"Age distribution\")\n",
        "plt.show()"
      ],
      "execution_count": 145,
      "outputs": [
        {
          "output_type": "display_data",
          "data": {
            "image/png": "[encoded data removed]",
            "text/plain": [
              "<Figure size 720x360 with 1 Axes>"
            ]
          },
          "metadata": {
            "tags": []
          }
        }
      ]
    },
    {
      "cell_type": "markdown",
      "metadata": {
        "id": "ZbGUlRnN5XQS"
      },
      "source": [
        "Most of the applicants are under 30 years old, we can say in particular that those aged from 22 to 28 years are very represented and are very interested in data science."
      ]
    },
    {
      "cell_type": "code",
      "metadata": {
        "colab": {
          "base_uri": "https://localhost:8080/",
          "height": 408
        },
        "id": "E6Kec4Gn0a0P",
        "outputId": "4ae74d66-0295-4696-91a0-fbf7cf8a0102"
      },
      "source": [
        "plt.figure(figsize=(10,6))\n",
        "sns.boxplot(data=quest,x=\"gender\",y=\"age\")\n",
        "plt.legend([\"male\",\"female\"])\n",
        "#quest[quest[\"age\"]<10]"
      ],
      "execution_count": 146,
      "outputs": [
        {
          "output_type": "execute_result",
          "data": {
            "text/plain": [
              "<matplotlib.legend.Legend at 0x7f640befd810>"
            ]
          },
          "metadata": {
            "tags": []
          },
          "execution_count": 146
        },
        {
          "output_type": "display_data",
          "data": {
            "image/png": "[encoded data removed]",
            "text/plain": [
              "<Figure size 720x432 with 1 Axes>"
            ]
          },
          "metadata": {
            "tags": []
          }
        }
      ]
    },
    {
      "cell_type": "markdown",
      "metadata": {
        "id": "JyBusyXx6bVh"
      },
      "source": [
        "**The age distribution of men and women does not differ greatly.** The The median is almost identical and would be around 28 years."
      ]
    },
    {
      "cell_type": "code",
      "metadata": {
        "colab": {
          "base_uri": "https://localhost:8080/",
          "height": 371
        },
        "id": "kWtPyosDUbiV",
        "outputId": "f0a9aed6-ad41-45c1-cb1a-45c19026cb90"
      },
      "source": [
        "technology1 = technology2.reset_index()\n",
        "tech1 = technology1.drop([\"quest_id\"], inplace=False, axis=1).sum(axis=0)\n",
        "tech1 = tech1.sort_values(ascending=False)\n",
        "plt.figure(figsize=(8,5))\n",
        "sns.barplot(y=tech1.index, x = tech1)\n",
        "plt.title(\"The knowledge of technologies used by participants\")\n",
        "plt.xlabel(\"Occurence\")\n",
        "plt.ylabel(\"Technologies\")"
      ],
      "execution_count": 147,
      "outputs": [
        {
          "output_type": "execute_result",
          "data": {
            "text/plain": [
              "Text(0, 0.5, 'Technologies')"
            ]
          },
          "metadata": {
            "tags": []
          },
          "execution_count": 147
        },
        {
          "output_type": "display_data",
          "data": {
            "image/png": "[encoded data removed]",
            "text/plain": [
              "<Figure size 576x360 with 1 Axes>"
            ]
          },
          "metadata": {
            "tags": []
          }
        }
      ]
    },
    {
      "cell_type": "markdown",
      "metadata": {
        "id": "XK8IGYbkhbHx"
      },
      "source": [
        "**Excel** is the most used tool among the applicants."
      ]
    },
    {
      "cell_type": "code",
      "metadata": {
        "colab": {
          "base_uri": "https://localhost:8080/",
          "height": 371
        },
        "id": "iPGQAWpbVg_8",
        "outputId": "eb3d9ac7-fbec-40c4-8b6c-bfe21bac6630"
      },
      "source": [
        "industry1 = industry2.reset_index()\n",
        "indus1 = industry1.drop([\"quest_id\"], inplace=False, axis=1).sum(axis=0)\n",
        "indus1 = indus1.sort_values(ascending=False)\n",
        "plt.figure(figsize=(8,5))\n",
        "sns.barplot(y=indus1.index, x = indus1)\n",
        "plt.title(\"The domain of work by participants\")\n",
        "plt.xlabel(\"Occurence\")\n",
        "plt.ylabel(\"Domains\")"
      ],
      "execution_count": 148,
      "outputs": [
        {
          "output_type": "execute_result",
          "data": {
            "text/plain": [
              "Text(0, 0.5, 'Domains')"
            ]
          },
          "metadata": {
            "tags": []
          },
          "execution_count": 148
        },
        {
          "output_type": "display_data",
          "data": {
            "image/png": "[encoded data removed]",
            "text/plain": [
              "<Figure size 576x360 with 1 Axes>"
            ]
          },
          "metadata": {
            "tags": []
          }
        }
      ]
    },
    {
      "cell_type": "markdown",
      "metadata": {
        "id": "Gm8b8SKThr9k"
      },
      "source": [
        "**Technology(software/internet) and finance** seem to be the domains of work most found among the applicants."
      ]
    },
    {
      "cell_type": "code",
      "metadata": {
        "colab": {
          "base_uri": "https://localhost:8080/",
          "height": 371
        },
        "id": "XXNad9spWMqV",
        "outputId": "d07917d9-f3e6-4f1c-bba2-b9c347f0db39"
      },
      "source": [
        "study_domain1 = study_domain2.reset_index()\n",
        "stud1 = study_domain1.drop([\"quest_id\"], inplace=False, axis=1).sum(axis=0)\n",
        "stud1 = stud1.sort_values(ascending=False)\n",
        "plt.figure(figsize=(8,5))\n",
        "sns.barplot(y=stud1.index, x = stud1)\n",
        "plt.title(\"The domains of study by participants\")\n",
        "plt.xlabel(\"Occurence\")\n",
        "plt.ylabel(\"Domains of study\")"
      ],
      "execution_count": 149,
      "outputs": [
        {
          "output_type": "execute_result",
          "data": {
            "text/plain": [
              "Text(0, 0.5, 'Domains of study')"
            ]
          },
          "metadata": {
            "tags": []
          },
          "execution_count": 149
        },
        {
          "output_type": "display_data",
          "data": {
            "image/png": "[encoded data removed]",
            "text/plain": [
              "<Figure size 576x360 with 1 Axes>"
            ]
          },
          "metadata": {
            "tags": []
          }
        }
      ]
    },
    {
      "cell_type": "markdown",
      "metadata": {
        "id": "xnj04Vjzin0Z"
      },
      "source": [
        "**Computer science** are the domain of study better represented. We know how much diversity is important for AA."
      ]
    },
    {
      "cell_type": "code",
      "metadata": {
        "id": "16gcaFn79-dr"
      },
      "source": [
        "def generate_barchart(data=\"\", title =\"\",abs_value =\"Total\",rel_value=\"Percent\",figsize =(7,3),horizontal=\"\"):\n",
        "  plt.figure(figsize=figsize)\n",
        "  plt.style.use(\"ggplot\")\n",
        "  axes = sns.barplot(data=data,x=data.index,y=abs_value)\n",
        "  i=0\n",
        "  for tot, perc in zip(data[abs_value],data[rel_value]):\n",
        "    axes.text(i,\n",
        "              tot/2,\n",
        "              str(np.round(perc*100,2))+ \"%\",\n",
        "               fontdict=dict(color='White',fontsize=12,horizontalalignment=\"center\")\n",
        "              )\n",
        "    axes.text(i,\n",
        "              tot+ 3,\n",
        "              str(tot),\n",
        "               fontdict=dict(color='blue',fontsize=12,horizontalalignment=\"center\")\n",
        "              )\n",
        "    \n",
        "    i+=1\n",
        "  plt.title(title)\n",
        "  plt.show()"
      ],
      "execution_count": 150,
      "outputs": []
    },
    {
      "cell_type": "code",
      "metadata": {
        "colab": {
          "base_uri": "https://localhost:8080/",
          "height": 364
        },
        "id": "77gNMFPOl8kH",
        "outputId": "6177f352-5e4f-4821-ba29-82de4218a91d"
      },
      "source": [
        "df1 = result.groupby(\"Commune_FR\")[\"quest_id\"].nunique().to_frame(name='qty').sort_values(ascending=False, by=\"qty\")\n",
        "df1[\"freq\"] = df1[\"qty\"]/df1[\"qty\"].sum()\n",
        "print(f\"The three city with most applicants are : \\n{df1.head(3)}\")\n",
        "print(\"We could consider them beacause we suppose that no bootcamp have been already done anywhere.\")\n",
        "\n",
        "generate_barchart(data=df1.head(3),title=\"Three most valuable communes\",abs_value=\"qty\", rel_value='freq')"
      ],
      "execution_count": 151,
      "outputs": [
        {
          "output_type": "stream",
          "text": [
            "The three city with most applicants are : \n",
            "                qty   freq\n",
            "Commune_FR                \n",
            "Delmas           71  0.284\n",
            "Port-au-Prince   59  0.236\n",
            "Pétion-Ville     29  0.116\n",
            "We could consider them beacause we suppose that no bootcamp have been already done anywhere.\n"
          ],
          "name": "stdout"
        },
        {
          "output_type": "display_data",
          "data": {
            "image/png": "[encoded data removed]",
            "text/plain": [
              "<Figure size 504x216 with 1 Axes>"
            ]
          },
          "metadata": {
            "tags": []
          }
        }
      ]
    },
    {
      "cell_type": "code",
      "metadata": {
        "id": "toPD98nSw66x"
      },
      "source": [
        "def pivotabl(x):\n",
        "  new_pivot=pd.pivot_table(result, values='quest_id', \n",
        "                    index=['Commune_FR'], \n",
        "                    columns=x,\n",
        "                    aggfunc='count')\n",
        "  new_pivot=new_pivot.fillna(0)\n",
        "  #new_pivot.drop([\"unkwown\", \"other\", \"Other\"],axis=1, inplace=True)\n",
        "  return new_pivot"
      ],
      "execution_count": 152,
      "outputs": []
    },
    {
      "cell_type": "code",
      "metadata": {
        "id": "pwqE5MTUiHx3"
      },
      "source": [
        "pv_gender=pivotabl(\"gender\")\n",
        "pv_edulevel = pivotabl(\"education_level\")\n",
        "Chanel = pivotabl(\"chanels\")\n",
        "Project = pivotabl('Project')\n",
        "pv_internet = pivotabl(\"internet_at_home\")\n",
        "pv_computer = pivotabl(\"have_computer_home\")\n",
        "pv_employed = pivotabl('current_employed')\n",
        "pv_internet.rename(columns={\"No\":\"Don't have internet\", \"Yes\":\"Have internet\"}, inplace=True)\n",
        "pv_computer.rename(columns={\"No\":\"Don't have computer\", \"Yes\":\"Have computer\"}, inplace=True)\n",
        "pv_employed.rename(columns={\"No\":\"Don't be employed\", \"Yes\":\"Employed\"}, inplace=True)"
      ],
      "execution_count": 153,
      "outputs": []
    },
    {
      "cell_type": "code",
      "metadata": {
        "id": "IHAp6gEcS3fg"
      },
      "source": [
        ""
      ],
      "execution_count": 153,
      "outputs": []
    },
    {
      "cell_type": "code",
      "metadata": {
        "colab": {
          "base_uri": "https://localhost:8080/",
          "height": 388
        },
        "id": "5A2HNm1xk3az",
        "outputId": "8a721189-7aef-4c5b-c753-aabe02bf0c58"
      },
      "source": [
        "data_commune = pd.concat([pv_gender, pv_edulevel, Chanel, Project, pv_internet, pv_computer, pv_employed], axis=1)\n",
        "data_commune[\"qty\"]=result.groupby(\"Commune_FR\")[\"quest_id\"].nunique().sort_values()\n",
        "#data_commune.to_frame(name=\"qty\").sort_values(by=['qty'])\n",
        "data_commune.sort_values(by=[\"qty\"], inplace=True, ascending=False)\n",
        "data_commune5 = data_commune[data_commune.qty>5]\n",
        "print(\"this dataframe contains the data for each commune with the number of applicants for each variable, it can allow us to see the best prepared communes in number of applicants\")\n",
        "data_commune5"
      ],
      "execution_count": 154,
      "outputs": [
        {
          "output_type": "stream",
          "text": [
            "this dataframe contains the data for each commune with the number of applicants for each variable, it can allow us to see the best prepared communes in number of applicants\n"
          ],
          "name": "stdout"
        },
        {
          "output_type": "execute_result",
          "data": {
            "text/html": [
              "<div>\n",
              "<style scoped>\n",
              "    .dataframe tbody tr th:only-of-type {\n",
              "        vertical-align: middle;\n",
              "    }\n",
              "\n",
              "    .dataframe tbody tr th {\n",
              "        vertical-align: top;\n",
              "    }\n",
              "\n",
              "    .dataframe thead th {\n",
              "        text-align: right;\n",
              "    }\n",
              "</style>\n",
              "<table border=\"1\" class=\"dataframe\">\n",
              "  <thead>\n",
              "    <tr style=\"text-align: right;\">\n",
              "      <th></th>\n",
              "      <th>female</th>\n",
              "      <th>male</th>\n",
              "      <th>Bachelors (bacc +4)</th>\n",
              "      <th>Doctorate (PhD, MD, JD)</th>\n",
              "      <th>High School (16 years)</th>\n",
              "      <th>Masters</th>\n",
              "      <th>Other</th>\n",
              "      <th>unknown</th>\n",
              "      <th>Ayiti Analytics Website</th>\n",
              "      <th>Bootcamp Alumni</th>\n",
              "      <th>ESIH</th>\n",
              "      <th>Facebook</th>\n",
              "      <th>Friend</th>\n",
              "      <th>Instagram</th>\n",
              "      <th>LinkedIn</th>\n",
              "      <th>WhatsApp</th>\n",
              "      <th>other</th>\n",
              "      <th>unknown</th>\n",
              "      <th>Finding a job/internship</th>\n",
              "      <th>Improving my data analysis skills</th>\n",
              "      <th>Mentorship</th>\n",
              "      <th>Switching careers</th>\n",
              "      <th>Training to start my own company</th>\n",
              "      <th>other</th>\n",
              "      <th>unknown</th>\n",
              "      <th>Don't have internet</th>\n",
              "      <th>Have internet</th>\n",
              "      <th>unknown</th>\n",
              "      <th>Don't have computer</th>\n",
              "      <th>Have computer</th>\n",
              "      <th>unknown</th>\n",
              "      <th>Don't be employed</th>\n",
              "      <th>Employed</th>\n",
              "      <th>unknown</th>\n",
              "      <th>qty</th>\n",
              "    </tr>\n",
              "    <tr>\n",
              "      <th>Commune_FR</th>\n",
              "      <th></th>\n",
              "      <th></th>\n",
              "      <th></th>\n",
              "      <th></th>\n",
              "      <th></th>\n",
              "      <th></th>\n",
              "      <th></th>\n",
              "      <th></th>\n",
              "      <th></th>\n",
              "      <th></th>\n",
              "      <th></th>\n",
              "      <th></th>\n",
              "      <th></th>\n",
              "      <th></th>\n",
              "      <th></th>\n",
              "      <th></th>\n",
              "      <th></th>\n",
              "      <th></th>\n",
              "      <th></th>\n",
              "      <th></th>\n",
              "      <th></th>\n",
              "      <th></th>\n",
              "      <th></th>\n",
              "      <th></th>\n",
              "      <th></th>\n",
              "      <th></th>\n",
              "      <th></th>\n",
              "      <th></th>\n",
              "      <th></th>\n",
              "      <th></th>\n",
              "      <th></th>\n",
              "      <th></th>\n",
              "      <th></th>\n",
              "      <th></th>\n",
              "      <th></th>\n",
              "    </tr>\n",
              "  </thead>\n",
              "  <tbody>\n",
              "    <tr>\n",
              "      <th>Delmas</th>\n",
              "      <td>12.0</td>\n",
              "      <td>59.0</td>\n",
              "      <td>41.0</td>\n",
              "      <td>1.0</td>\n",
              "      <td>8.0</td>\n",
              "      <td>5.0</td>\n",
              "      <td>16.0</td>\n",
              "      <td>0.0</td>\n",
              "      <td>5.0</td>\n",
              "      <td>6.0</td>\n",
              "      <td>7.0</td>\n",
              "      <td>4.0</td>\n",
              "      <td>25.0</td>\n",
              "      <td>3.0</td>\n",
              "      <td>6.0</td>\n",
              "      <td>14.0</td>\n",
              "      <td>1.0</td>\n",
              "      <td>0.0</td>\n",
              "      <td>15.0</td>\n",
              "      <td>37.0</td>\n",
              "      <td>3.0</td>\n",
              "      <td>5.0</td>\n",
              "      <td>10.0</td>\n",
              "      <td>0.0</td>\n",
              "      <td>1.0</td>\n",
              "      <td>10.0</td>\n",
              "      <td>61.0</td>\n",
              "      <td>0.0</td>\n",
              "      <td>5.0</td>\n",
              "      <td>66.0</td>\n",
              "      <td>0.0</td>\n",
              "      <td>50.0</td>\n",
              "      <td>20.0</td>\n",
              "      <td>1.0</td>\n",
              "      <td>71</td>\n",
              "    </tr>\n",
              "    <tr>\n",
              "      <th>Port-au-Prince</th>\n",
              "      <td>19.0</td>\n",
              "      <td>40.0</td>\n",
              "      <td>29.0</td>\n",
              "      <td>0.0</td>\n",
              "      <td>9.0</td>\n",
              "      <td>4.0</td>\n",
              "      <td>14.0</td>\n",
              "      <td>3.0</td>\n",
              "      <td>2.0</td>\n",
              "      <td>4.0</td>\n",
              "      <td>6.0</td>\n",
              "      <td>9.0</td>\n",
              "      <td>12.0</td>\n",
              "      <td>0.0</td>\n",
              "      <td>5.0</td>\n",
              "      <td>17.0</td>\n",
              "      <td>3.0</td>\n",
              "      <td>1.0</td>\n",
              "      <td>11.0</td>\n",
              "      <td>26.0</td>\n",
              "      <td>5.0</td>\n",
              "      <td>6.0</td>\n",
              "      <td>8.0</td>\n",
              "      <td>2.0</td>\n",
              "      <td>1.0</td>\n",
              "      <td>6.0</td>\n",
              "      <td>52.0</td>\n",
              "      <td>1.0</td>\n",
              "      <td>1.0</td>\n",
              "      <td>57.0</td>\n",
              "      <td>1.0</td>\n",
              "      <td>41.0</td>\n",
              "      <td>17.0</td>\n",
              "      <td>1.0</td>\n",
              "      <td>59</td>\n",
              "    </tr>\n",
              "    <tr>\n",
              "      <th>Pétion-Ville</th>\n",
              "      <td>4.0</td>\n",
              "      <td>25.0</td>\n",
              "      <td>20.0</td>\n",
              "      <td>0.0</td>\n",
              "      <td>3.0</td>\n",
              "      <td>1.0</td>\n",
              "      <td>5.0</td>\n",
              "      <td>0.0</td>\n",
              "      <td>3.0</td>\n",
              "      <td>0.0</td>\n",
              "      <td>2.0</td>\n",
              "      <td>5.0</td>\n",
              "      <td>8.0</td>\n",
              "      <td>1.0</td>\n",
              "      <td>0.0</td>\n",
              "      <td>9.0</td>\n",
              "      <td>1.0</td>\n",
              "      <td>0.0</td>\n",
              "      <td>3.0</td>\n",
              "      <td>17.0</td>\n",
              "      <td>2.0</td>\n",
              "      <td>3.0</td>\n",
              "      <td>4.0</td>\n",
              "      <td>0.0</td>\n",
              "      <td>0.0</td>\n",
              "      <td>3.0</td>\n",
              "      <td>25.0</td>\n",
              "      <td>1.0</td>\n",
              "      <td>4.0</td>\n",
              "      <td>25.0</td>\n",
              "      <td>0.0</td>\n",
              "      <td>22.0</td>\n",
              "      <td>6.0</td>\n",
              "      <td>1.0</td>\n",
              "      <td>29</td>\n",
              "    </tr>\n",
              "    <tr>\n",
              "      <th>Carrefour</th>\n",
              "      <td>6.0</td>\n",
              "      <td>17.0</td>\n",
              "      <td>17.0</td>\n",
              "      <td>0.0</td>\n",
              "      <td>3.0</td>\n",
              "      <td>1.0</td>\n",
              "      <td>2.0</td>\n",
              "      <td>0.0</td>\n",
              "      <td>2.0</td>\n",
              "      <td>4.0</td>\n",
              "      <td>0.0</td>\n",
              "      <td>5.0</td>\n",
              "      <td>7.0</td>\n",
              "      <td>0.0</td>\n",
              "      <td>0.0</td>\n",
              "      <td>4.0</td>\n",
              "      <td>1.0</td>\n",
              "      <td>0.0</td>\n",
              "      <td>3.0</td>\n",
              "      <td>14.0</td>\n",
              "      <td>0.0</td>\n",
              "      <td>1.0</td>\n",
              "      <td>4.0</td>\n",
              "      <td>1.0</td>\n",
              "      <td>0.0</td>\n",
              "      <td>5.0</td>\n",
              "      <td>18.0</td>\n",
              "      <td>0.0</td>\n",
              "      <td>2.0</td>\n",
              "      <td>21.0</td>\n",
              "      <td>0.0</td>\n",
              "      <td>19.0</td>\n",
              "      <td>4.0</td>\n",
              "      <td>0.0</td>\n",
              "      <td>23</td>\n",
              "    </tr>\n",
              "    <tr>\n",
              "      <th>Tabarre</th>\n",
              "      <td>3.0</td>\n",
              "      <td>8.0</td>\n",
              "      <td>7.0</td>\n",
              "      <td>0.0</td>\n",
              "      <td>2.0</td>\n",
              "      <td>1.0</td>\n",
              "      <td>1.0</td>\n",
              "      <td>0.0</td>\n",
              "      <td>1.0</td>\n",
              "      <td>0.0</td>\n",
              "      <td>1.0</td>\n",
              "      <td>1.0</td>\n",
              "      <td>2.0</td>\n",
              "      <td>0.0</td>\n",
              "      <td>2.0</td>\n",
              "      <td>3.0</td>\n",
              "      <td>1.0</td>\n",
              "      <td>0.0</td>\n",
              "      <td>1.0</td>\n",
              "      <td>8.0</td>\n",
              "      <td>0.0</td>\n",
              "      <td>0.0</td>\n",
              "      <td>2.0</td>\n",
              "      <td>0.0</td>\n",
              "      <td>0.0</td>\n",
              "      <td>2.0</td>\n",
              "      <td>9.0</td>\n",
              "      <td>0.0</td>\n",
              "      <td>0.0</td>\n",
              "      <td>11.0</td>\n",
              "      <td>0.0</td>\n",
              "      <td>10.0</td>\n",
              "      <td>1.0</td>\n",
              "      <td>0.0</td>\n",
              "      <td>11</td>\n",
              "    </tr>\n",
              "    <tr>\n",
              "      <th>Croix-Des-Bouquets</th>\n",
              "      <td>0.0</td>\n",
              "      <td>10.0</td>\n",
              "      <td>4.0</td>\n",
              "      <td>0.0</td>\n",
              "      <td>3.0</td>\n",
              "      <td>1.0</td>\n",
              "      <td>2.0</td>\n",
              "      <td>0.0</td>\n",
              "      <td>1.0</td>\n",
              "      <td>0.0</td>\n",
              "      <td>1.0</td>\n",
              "      <td>2.0</td>\n",
              "      <td>4.0</td>\n",
              "      <td>1.0</td>\n",
              "      <td>0.0</td>\n",
              "      <td>1.0</td>\n",
              "      <td>0.0</td>\n",
              "      <td>0.0</td>\n",
              "      <td>3.0</td>\n",
              "      <td>3.0</td>\n",
              "      <td>0.0</td>\n",
              "      <td>1.0</td>\n",
              "      <td>3.0</td>\n",
              "      <td>0.0</td>\n",
              "      <td>0.0</td>\n",
              "      <td>2.0</td>\n",
              "      <td>8.0</td>\n",
              "      <td>0.0</td>\n",
              "      <td>0.0</td>\n",
              "      <td>10.0</td>\n",
              "      <td>0.0</td>\n",
              "      <td>9.0</td>\n",
              "      <td>1.0</td>\n",
              "      <td>0.0</td>\n",
              "      <td>10</td>\n",
              "    </tr>\n",
              "  </tbody>\n",
              "</table>\n",
              "</div>"
            ],
            "text/plain": [
              "                    female  male  Bachelors (bacc +4)  ...  Employed  unknown  qty\n",
              "Commune_FR                                             ...                        \n",
              "Delmas                12.0  59.0                 41.0  ...      20.0      1.0   71\n",
              "Port-au-Prince        19.0  40.0                 29.0  ...      17.0      1.0   59\n",
              "Pétion-Ville           4.0  25.0                 20.0  ...       6.0      1.0   29\n",
              "Carrefour              6.0  17.0                 17.0  ...       4.0      0.0   23\n",
              "Tabarre                3.0   8.0                  7.0  ...       1.0      0.0   11\n",
              "Croix-Des-Bouquets     0.0  10.0                  4.0  ...       1.0      0.0   10\n",
              "\n",
              "[6 rows x 35 columns]"
            ]
          },
          "metadata": {
            "tags": []
          },
          "execution_count": 154
        }
      ]
    },
    {
      "cell_type": "code",
      "metadata": {
        "id": "nrJgzxuiqOe5",
        "colab": {
          "base_uri": "https://localhost:8080/"
        },
        "outputId": "a5579a01-2bb4-4162-a270-87b274395104"
      },
      "source": [
        "data_commune5.drop([\"unknown\", \"other\", \"Other\"], axis=1, inplace=True, )\n",
        "data_commune5.columns"
      ],
      "execution_count": 155,
      "outputs": [
        {
          "output_type": "stream",
          "text": [
            "/usr/local/lib/python3.7/dist-packages/pandas/core/frame.py:4174: SettingWithCopyWarning: \n",
            "A value is trying to be set on a copy of a slice from a DataFrame\n",
            "\n",
            "See the caveats in the documentation: https://pandas.pydata.org/pandas-docs/stable/user_guide/indexing.html#returning-a-view-versus-a-copy\n",
            "  errors=errors,\n"
          ],
          "name": "stderr"
        },
        {
          "output_type": "execute_result",
          "data": {
            "text/plain": [
              "Index(['female', 'male', 'Bachelors (bacc +4)', 'Doctorate (PhD, MD, JD)',\n",
              "       'High School (16 years)', 'Masters', 'Ayiti Analytics Website',\n",
              "       'Bootcamp Alumni', 'ESIH', 'Facebook', 'Friend', 'Instagram',\n",
              "       'LinkedIn', 'WhatsApp', 'Finding a job/internship',\n",
              "       'Improving my data analysis skills', 'Mentorship', 'Switching careers',\n",
              "       'Training to start my own company', 'Don't have internet',\n",
              "       'Have internet', 'Don't have computer', 'Have computer',\n",
              "       'Don't be employed', 'Employed', 'qty'],\n",
              "      dtype='object')"
            ]
          },
          "metadata": {
            "tags": []
          },
          "execution_count": 155
        }
      ]
    },
    {
      "cell_type": "markdown",
      "metadata": {
        "id": "KtAlrgQD46We"
      },
      "source": [
        "The profil of the applicants of the AAB 2021"
      ]
    },
    {
      "cell_type": "code",
      "metadata": {
        "id": "0rJ6aA9Y46We"
      },
      "source": [
        "plt.style.use(\"ggplot\")"
      ],
      "execution_count": 156,
      "outputs": []
    },
    {
      "cell_type": "code",
      "metadata": {
        "id": "f_vVWc0j46Wf",
        "colab": {
          "base_uri": "https://localhost:8080/",
          "height": 417
        },
        "outputId": "5f10b6cc-1f22-48e5-881f-b52d0cb72eb7"
      },
      "source": [
        "dat_commune = data_commune[[\"female\", \"male\", \"qty\"]].reset_index()\n",
        "#dat_commune.reset_index()\n",
        "fig, ax = plt.subplots(figsize=(15,5))\n",
        "dat_commune.head(6).plot.bar(x = 'Commune_FR', y = ['female', 'male', \"qty\"], rot = 60, ax = ax)\n",
        "for p in ax.patches: \n",
        "    ax.annotate(np.round(p.get_height(),decimals=2), (p.get_x()+p.get_width()/2., p.get_height()))"
      ],
      "execution_count": 157,
      "outputs": [
        {
          "output_type": "display_data",
          "data": {
            "image/png": "[encoded data removed]",
            "text/plain": [
              "<Figure size 1080x360 with 1 Axes>"
            ]
          },
          "metadata": {
            "tags": []
          }
        }
      ]
    },
    {
      "cell_type": "markdown",
      "metadata": {
        "id": "AJyT8PbHcaZV"
      },
      "source": [
        ""
      ]
    },
    {
      "cell_type": "markdown",
      "metadata": {
        "id": "4jB4eMgWA8FC"
      },
      "source": [
        "The minimum number of applicants required to ensure that there are at least 8 women"
      ]
    },
    {
      "cell_type": "code",
      "metadata": {
        "id": "vIJu53D0BJPp",
        "colab": {
          "base_uri": "https://localhost:8080/",
          "height": 459
        },
        "outputId": "6ae0c85d-60cc-45e2-e1e1-d6e783d0d5c1"
      },
      "source": [
        "pv = data_commune[[\"qty\", \"male\", \"female\"]]\n",
        "pv[\"women freq\"] = (pv[\"female\"]/pv[\"qty\"])\n",
        "pv[\"Min_App\"] = round(8/pv[\"women freq\"], 0)\n",
        "pv = pv.reset_index()\n",
        "pv = pv.head(6)\n",
        "pv"
      ],
      "execution_count": 158,
      "outputs": [
        {
          "output_type": "stream",
          "text": [
            "/usr/local/lib/python3.7/dist-packages/ipykernel_launcher.py:2: SettingWithCopyWarning: \n",
            "A value is trying to be set on a copy of a slice from a DataFrame.\n",
            "Try using .loc[row_indexer,col_indexer] = value instead\n",
            "\n",
            "See the caveats in the documentation: https://pandas.pydata.org/pandas-docs/stable/user_guide/indexing.html#returning-a-view-versus-a-copy\n",
            "  \n",
            "/usr/local/lib/python3.7/dist-packages/ipykernel_launcher.py:3: SettingWithCopyWarning: \n",
            "A value is trying to be set on a copy of a slice from a DataFrame.\n",
            "Try using .loc[row_indexer,col_indexer] = value instead\n",
            "\n",
            "See the caveats in the documentation: https://pandas.pydata.org/pandas-docs/stable/user_guide/indexing.html#returning-a-view-versus-a-copy\n",
            "  This is separate from the ipykernel package so we can avoid doing imports until\n"
          ],
          "name": "stderr"
        },
        {
          "output_type": "execute_result",
          "data": {
            "text/html": [
              "<div>\n",
              "<style scoped>\n",
              "    .dataframe tbody tr th:only-of-type {\n",
              "        vertical-align: middle;\n",
              "    }\n",
              "\n",
              "    .dataframe tbody tr th {\n",
              "        vertical-align: top;\n",
              "    }\n",
              "\n",
              "    .dataframe thead th {\n",
              "        text-align: right;\n",
              "    }\n",
              "</style>\n",
              "<table border=\"1\" class=\"dataframe\">\n",
              "  <thead>\n",
              "    <tr style=\"text-align: right;\">\n",
              "      <th></th>\n",
              "      <th>Commune_FR</th>\n",
              "      <th>qty</th>\n",
              "      <th>male</th>\n",
              "      <th>female</th>\n",
              "      <th>women freq</th>\n",
              "      <th>Min_App</th>\n",
              "    </tr>\n",
              "  </thead>\n",
              "  <tbody>\n",
              "    <tr>\n",
              "      <th>0</th>\n",
              "      <td>Delmas</td>\n",
              "      <td>71</td>\n",
              "      <td>59.0</td>\n",
              "      <td>12.0</td>\n",
              "      <td>0.169014</td>\n",
              "      <td>47.0</td>\n",
              "    </tr>\n",
              "    <tr>\n",
              "      <th>1</th>\n",
              "      <td>Port-au-Prince</td>\n",
              "      <td>59</td>\n",
              "      <td>40.0</td>\n",
              "      <td>19.0</td>\n",
              "      <td>0.322034</td>\n",
              "      <td>25.0</td>\n",
              "    </tr>\n",
              "    <tr>\n",
              "      <th>2</th>\n",
              "      <td>Pétion-Ville</td>\n",
              "      <td>29</td>\n",
              "      <td>25.0</td>\n",
              "      <td>4.0</td>\n",
              "      <td>0.137931</td>\n",
              "      <td>58.0</td>\n",
              "    </tr>\n",
              "    <tr>\n",
              "      <th>3</th>\n",
              "      <td>Carrefour</td>\n",
              "      <td>23</td>\n",
              "      <td>17.0</td>\n",
              "      <td>6.0</td>\n",
              "      <td>0.260870</td>\n",
              "      <td>31.0</td>\n",
              "    </tr>\n",
              "    <tr>\n",
              "      <th>4</th>\n",
              "      <td>Tabarre</td>\n",
              "      <td>11</td>\n",
              "      <td>8.0</td>\n",
              "      <td>3.0</td>\n",
              "      <td>0.272727</td>\n",
              "      <td>29.0</td>\n",
              "    </tr>\n",
              "    <tr>\n",
              "      <th>5</th>\n",
              "      <td>Croix-Des-Bouquets</td>\n",
              "      <td>10</td>\n",
              "      <td>10.0</td>\n",
              "      <td>0.0</td>\n",
              "      <td>0.000000</td>\n",
              "      <td>inf</td>\n",
              "    </tr>\n",
              "  </tbody>\n",
              "</table>\n",
              "</div>"
            ],
            "text/plain": [
              "           Commune_FR  qty  male  female  women freq  Min_App\n",
              "0              Delmas   71  59.0    12.0    0.169014     47.0\n",
              "1      Port-au-Prince   59  40.0    19.0    0.322034     25.0\n",
              "2        Pétion-Ville   29  25.0     4.0    0.137931     58.0\n",
              "3           Carrefour   23  17.0     6.0    0.260870     31.0\n",
              "4             Tabarre   11   8.0     3.0    0.272727     29.0\n",
              "5  Croix-Des-Bouquets   10  10.0     0.0    0.000000      inf"
            ]
          },
          "metadata": {
            "tags": []
          },
          "execution_count": 158
        }
      ]
    },
    {
      "cell_type": "code",
      "metadata": {
        "colab": {
          "base_uri": "https://localhost:8080/"
        },
        "id": "DFYU5TC9Bxlh",
        "outputId": "21a3fc8c-c612-4014-c72f-2d6d54b09712"
      },
      "source": [
        "for i in [0,1,2,4,5]:\n",
        "   a= pv.at[i,\"Commune_FR\"]\n",
        "   b= pv.at[i,\"qty\"]\n",
        "   c= pv.at[i,\"female\"]\n",
        "   d= pv.at[i,\"Min_App\"]\n",
        "   print(f\"In {a}, we have {b} applicants including {c} women, if we want to be sure we have 8 women, 25% of 30 \\nWe have to receive at least {d} applicants.\")\n",
        "print(\"We notice that for Croix-Des-Bouquets, we had 0 woman, so we can predict for how many applicants, we'll have 8 women.\")"
      ],
      "execution_count": 159,
      "outputs": [
        {
          "output_type": "stream",
          "text": [
            "In Delmas, we have 71 applicants including 12.0 women, if we want to be sure we have 8 women, 25% of 30 \n",
            "We have to receive at least 47.0 applicants.\n",
            "In Port-au-Prince, we have 59 applicants including 19.0 women, if we want to be sure we have 8 women, 25% of 30 \n",
            "We have to receive at least 25.0 applicants.\n",
            "In Pétion-Ville, we have 29 applicants including 4.0 women, if we want to be sure we have 8 women, 25% of 30 \n",
            "We have to receive at least 58.0 applicants.\n",
            "In Tabarre, we have 11 applicants including 3.0 women, if we want to be sure we have 8 women, 25% of 30 \n",
            "We have to receive at least 29.0 applicants.\n",
            "In Croix-Des-Bouquets, we have 10 applicants including 0.0 women, if we want to be sure we have 8 women, 25% of 30 \n",
            "We have to receive at least inf applicants.\n",
            "We notice that for Croix-Des-Bouquets, we had 0 woman, so we can predict for how many applicants, we'll have 8 women.\n"
          ],
          "name": "stdout"
        }
      ]
    },
    {
      "cell_type": "code",
      "metadata": {
        "id": "xHkVHO-Ky-6c"
      },
      "source": [
        "result[\"male\"] = result.gender.apply(lambda x: 1 if x==\"male\" else 0)\n",
        "result[\"female\"] = result.gender.apply(lambda x: 1 if x==\"female\" else 0)"
      ],
      "execution_count": 160,
      "outputs": []
    },
    {
      "cell_type": "code",
      "metadata": {
        "id": "z2zt-JsO05ez",
        "colab": {
          "base_uri": "https://localhost:8080/",
          "height": 235
        },
        "outputId": "1f68d3f2-0047-4cb6-abeb-ad63a11e8beb"
      },
      "source": [
        "#signup_per_week=result5[[\"Date d'inscription\",\"quest_id\"]].groupby(pd.Grouper(key=\"Date d'inscription\",freq='7D')).count()\n",
        "signup_per_week = result[[\"signup_date\",\"quest_id\", \"male\",\"female\"]].groupby(pd.Grouper(key=\"signup_date\",freq='7D')).sum()\n",
        "signup_per_week"
      ],
      "execution_count": 161,
      "outputs": [
        {
          "output_type": "execute_result",
          "data": {
            "text/html": [
              "<div>\n",
              "<style scoped>\n",
              "    .dataframe tbody tr th:only-of-type {\n",
              "        vertical-align: middle;\n",
              "    }\n",
              "\n",
              "    .dataframe tbody tr th {\n",
              "        vertical-align: top;\n",
              "    }\n",
              "\n",
              "    .dataframe thead th {\n",
              "        text-align: right;\n",
              "    }\n",
              "</style>\n",
              "<table border=\"1\" class=\"dataframe\">\n",
              "  <thead>\n",
              "    <tr style=\"text-align: right;\">\n",
              "      <th></th>\n",
              "      <th>male</th>\n",
              "      <th>female</th>\n",
              "    </tr>\n",
              "    <tr>\n",
              "      <th>signup_date</th>\n",
              "      <th></th>\n",
              "      <th></th>\n",
              "    </tr>\n",
              "  </thead>\n",
              "  <tbody>\n",
              "    <tr>\n",
              "      <th>2021-02-14</th>\n",
              "      <td>108</td>\n",
              "      <td>28</td>\n",
              "    </tr>\n",
              "    <tr>\n",
              "      <th>2021-02-21</th>\n",
              "      <td>41</td>\n",
              "      <td>13</td>\n",
              "    </tr>\n",
              "    <tr>\n",
              "      <th>2021-02-28</th>\n",
              "      <td>26</td>\n",
              "      <td>3</td>\n",
              "    </tr>\n",
              "    <tr>\n",
              "      <th>2021-03-07</th>\n",
              "      <td>26</td>\n",
              "      <td>3</td>\n",
              "    </tr>\n",
              "    <tr>\n",
              "      <th>2021-03-14</th>\n",
              "      <td>2</td>\n",
              "      <td>0</td>\n",
              "    </tr>\n",
              "  </tbody>\n",
              "</table>\n",
              "</div>"
            ],
            "text/plain": [
              "             male  female\n",
              "signup_date              \n",
              "2021-02-14    108      28\n",
              "2021-02-21     41      13\n",
              "2021-02-28     26       3\n",
              "2021-03-07     26       3\n",
              "2021-03-14      2       0"
            ]
          },
          "metadata": {
            "tags": []
          },
          "execution_count": 161
        }
      ]
    },
    {
      "cell_type": "code",
      "metadata": {
        "id": "EWA6mcOO5948",
        "colab": {
          "base_uri": "https://localhost:8080/",
          "height": 380
        },
        "outputId": "2344401e-4ae5-4a89-9f9d-cb1e20ab39b2"
      },
      "source": [
        "signup_per_week[\"qty\"]=result[[\"signup_date\",\"quest_id\", ]].groupby(pd.Grouper(key=\"signup_date\",freq='7D')).count()\n",
        "signup_per_week[\"week\"] = [\"week 1\", \"week 2\", \"week 3\", \"week 4\", \"week 5\"]\n",
        "fig, ax = plt.subplots(figsize=(15,5))\n",
        "signup_per_week.plot.line(x = 'week', y = ['female', 'male', \"qty\"], rot = 60, ax = ax)\n",
        "for p in ax.patches: \n",
        "    ax.annotate(np.round(p.get_height(),decimals=2), (p.get_x()+p.get_width()/2., p.get_height()))\n",
        " #montre qu'une prolongation de la date d'inscription ne fait pas augmenter les sign up.\n",
        "x=signup_per_week.qty.sum()/5\n",
        "print(f\"The average number of students registered by week are {x}\")"
      ],
      "execution_count": 162,
      "outputs": [
        {
          "output_type": "stream",
          "text": [
            "The average number of students registered by week are 50.0\n"
          ],
          "name": "stdout"
        },
        {
          "output_type": "display_data",
          "data": {
            "image/png": "[encoded data removed]",
            "text/plain": [
              "<Figure size 1080x360 with 1 Axes>"
            ]
          },
          "metadata": {
            "tags": []
          }
        }
      ]
    },
    {
      "cell_type": "markdown",
      "metadata": {
        "id": "UJitV_1GdVEO"
      },
      "source": [
        "We can see from this graph that **increasing the number of days will not increase the number of registrations**, the best strategy would be to use the **most used channels to attract the most applicants**.\n",
        "\n"
      ]
    },
    {
      "cell_type": "code",
      "metadata": {
        "colab": {
          "base_uri": "https://localhost:8080/",
          "height": 190
        },
        "id": "2IsjZ7By46Wh",
        "outputId": "dc1e7ab4-82ba-4fea-c809-c355d38b3171"
      },
      "source": [
        "gend_chan = pd.crosstab(result[\"gender\"], result[\"chanels\"], margins= True)\n",
        "gend_chan"
      ],
      "execution_count": 163,
      "outputs": [
        {
          "output_type": "execute_result",
          "data": {
            "text/html": [
              "<div>\n",
              "<style scoped>\n",
              "    .dataframe tbody tr th:only-of-type {\n",
              "        vertical-align: middle;\n",
              "    }\n",
              "\n",
              "    .dataframe tbody tr th {\n",
              "        vertical-align: top;\n",
              "    }\n",
              "\n",
              "    .dataframe thead th {\n",
              "        text-align: right;\n",
              "    }\n",
              "</style>\n",
              "<table border=\"1\" class=\"dataframe\">\n",
              "  <thead>\n",
              "    <tr style=\"text-align: right;\">\n",
              "      <th>chanels</th>\n",
              "      <th>Ayiti Analytics Website</th>\n",
              "      <th>Bootcamp Alumni</th>\n",
              "      <th>ESIH</th>\n",
              "      <th>Facebook</th>\n",
              "      <th>Friend</th>\n",
              "      <th>Instagram</th>\n",
              "      <th>LinkedIn</th>\n",
              "      <th>WhatsApp</th>\n",
              "      <th>other</th>\n",
              "      <th>unknown</th>\n",
              "      <th>All</th>\n",
              "    </tr>\n",
              "    <tr>\n",
              "      <th>gender</th>\n",
              "      <th></th>\n",
              "      <th></th>\n",
              "      <th></th>\n",
              "      <th></th>\n",
              "      <th></th>\n",
              "      <th></th>\n",
              "      <th></th>\n",
              "      <th></th>\n",
              "      <th></th>\n",
              "      <th></th>\n",
              "      <th></th>\n",
              "    </tr>\n",
              "  </thead>\n",
              "  <tbody>\n",
              "    <tr>\n",
              "      <th>female</th>\n",
              "      <td>4</td>\n",
              "      <td>8</td>\n",
              "      <td>5</td>\n",
              "      <td>6</td>\n",
              "      <td>11</td>\n",
              "      <td>1</td>\n",
              "      <td>1</td>\n",
              "      <td>9</td>\n",
              "      <td>2</td>\n",
              "      <td>0</td>\n",
              "      <td>47</td>\n",
              "    </tr>\n",
              "    <tr>\n",
              "      <th>male</th>\n",
              "      <td>11</td>\n",
              "      <td>6</td>\n",
              "      <td>13</td>\n",
              "      <td>34</td>\n",
              "      <td>56</td>\n",
              "      <td>4</td>\n",
              "      <td>14</td>\n",
              "      <td>57</td>\n",
              "      <td>7</td>\n",
              "      <td>1</td>\n",
              "      <td>203</td>\n",
              "    </tr>\n",
              "    <tr>\n",
              "      <th>All</th>\n",
              "      <td>15</td>\n",
              "      <td>14</td>\n",
              "      <td>18</td>\n",
              "      <td>40</td>\n",
              "      <td>67</td>\n",
              "      <td>5</td>\n",
              "      <td>15</td>\n",
              "      <td>66</td>\n",
              "      <td>9</td>\n",
              "      <td>1</td>\n",
              "      <td>250</td>\n",
              "    </tr>\n",
              "  </tbody>\n",
              "</table>\n",
              "</div>"
            ],
            "text/plain": [
              "chanels  Ayiti Analytics Website  Bootcamp Alumni  ESIH  ...  other  unknown  All\n",
              "gender                                                   ...                     \n",
              "female                         4                8     5  ...      2        0   47\n",
              "male                          11                6    13  ...      7        1  203\n",
              "All                           15               14    18  ...      9        1  250\n",
              "\n",
              "[3 rows x 11 columns]"
            ]
          },
          "metadata": {
            "tags": []
          },
          "execution_count": 163
        }
      ]
    },
    {
      "cell_type": "code",
      "metadata": {
        "id": "GXe9kEVTls5Y",
        "colab": {
          "base_uri": "https://localhost:8080/",
          "height": 373
        },
        "outputId": "990567a3-8b50-4799-ad8d-27f9098c2da8"
      },
      "source": [
        "plot1 = gend_chan.iloc[2:3, :-1].plot(kind=\"bar\", figsize=(12,5))\n",
        "plt.title(\"Chanels used by applicants to get registered\")\n"
      ],
      "execution_count": 164,
      "outputs": [
        {
          "output_type": "execute_result",
          "data": {
            "text/plain": [
              "Text(0.5, 1.0, 'Chanels used by applicants to get registered')"
            ]
          },
          "metadata": {
            "tags": []
          },
          "execution_count": 164
        },
        {
          "output_type": "display_data",
          "data": {
            "image/png": "[encoded data removed]",
            "text/plain": [
              "<Figure size 864x360 with 1 Axes>"
            ]
          },
          "metadata": {
            "tags": []
          }
        }
      ]
    },
    {
      "cell_type": "markdown",
      "metadata": {
        "id": "REpdJ5YdfsGo"
      },
      "source": [
        "The best chanels to use to attract applicants are **Friends and Whatsapp**, we can say that way of the way to get more is to use networking. This does not mean that the best channel for all applicants is the same for each gender independently. We know how much AA want to **reduce the inequality between men and women in Data Science Domain.**"
      ]
    },
    {
      "cell_type": "code",
      "metadata": {
        "colab": {
          "base_uri": "https://localhost:8080/"
        },
        "id": "2eid8_Ew46Wh",
        "outputId": "bb4df34b-94b7-404b-f79c-c0156b283cdc"
      },
      "source": [
        "gend_chanels = gend_chan[[\"Ayiti Analytics Website\", \"Bootcamp Alumni\", \"ESIH\", \"Facebook\",\"Friend\",\"LinkedIn\",\"WhatsApp\" ]]\n",
        "gend_chanels=gend_chanels.to_numpy().T[:,:2]\n",
        "gend_chanels\n",
        "from scipy.stats import chi2_contingency\n",
        "chi2, pval, dof, expected = chi2_contingency(gend_chanels)\n",
        "print(f\"The p-value is {round(pval, 4)}< 0.05, so With a significance level of 0.05,\\nwe can therefore conclude that the association between the variables Gender and Channels is statistically significant.\")\n",
        "print(\"We can propose to see the specific chanels to encourage womwn to apply.\")"
      ],
      "execution_count": 165,
      "outputs": [
        {
          "output_type": "stream",
          "text": [
            "The p-value is 0.0055< 0.05, so With a significance level of 0.05,\n",
            "we can therefore conclude that the association between the variables Gender and Channels is statistically significant.\n",
            "We can propose to see the specific chanels to encourage womwn to apply.\n"
          ],
          "name": "stdout"
        }
      ]
    },
    {
      "cell_type": "code",
      "metadata": {
        "colab": {
          "base_uri": "https://localhost:8080/",
          "height": 395
        },
        "id": "41XlAxmsX3M1",
        "outputId": "affca7b1-7ef3-4ecd-9eaa-4512a9df048b"
      },
      "source": [
        "plot2 = gend_chan.iloc[0:1, :-1].plot(kind=\"bar\", figsize=(12,5))\n",
        "plt.title(\"Distribution of female registrations by sex\")"
      ],
      "execution_count": 166,
      "outputs": [
        {
          "output_type": "execute_result",
          "data": {
            "text/plain": [
              "Text(0.5, 1.0, 'Distribution of female registrations by sex')"
            ]
          },
          "metadata": {
            "tags": []
          },
          "execution_count": 166
        },
        {
          "output_type": "display_data",
          "data": {
            "image/png": "[encoded data removed]",
            "text/plain": [
              "<Figure size 864x360 with 1 Axes>"
            ]
          },
          "metadata": {
            "tags": []
          }
        }
      ]
    },
    {
      "cell_type": "code",
      "metadata": {
        "id": "VOfRTonvJRXh",
        "colab": {
          "base_uri": "https://localhost:8080/"
        },
        "outputId": "dd26a41b-3392-4646-83f1-dc38facfce86"
      },
      "source": [
        "w = []\n",
        "m = []\n",
        "for i in range(10):\n",
        "  a = (gend_chan.iloc[0:1,i:i+1].to_numpy()).tolist()[0][0]\n",
        "  w.append(a)\n",
        "for i in range(10):\n",
        "  b = (gend_chan.iloc[1:2,i:i+1].to_numpy()).tolist()[0][0]\n",
        "  m.append(b)\n",
        "for i in range(9):\n",
        "  if w[i]>m[i]:\n",
        "    loc = gend_chan.columns[i]\n",
        "    print(f\"The number of women for the {loc} is bigger tan for men, \\nand we should use this chanel to get more women.\")"
      ],
      "execution_count": 167,
      "outputs": [
        {
          "output_type": "stream",
          "text": [
            "The number of women for the Bootcamp Alumni is bigger tan for men, \n",
            "and we should use this chanel to get more women.\n"
          ],
          "name": "stdout"
        }
      ]
    },
    {
      "cell_type": "markdown",
      "metadata": {
        "id": "3zV7dyu0k5Ri"
      },
      "source": [
        " If we use the others, we'll get more men because they attract men more tan women. The more efficient chanel that could attract women more than men is **Bootcamp Alumni**. The women are most likely confident to people who have been through the experience."
      ]
    },
    {
      "cell_type": "code",
      "metadata": {
        "id": "f6nDBGFtwfdx"
      },
      "source": [
        "result[\"scor1\"] = result[\"have_computer_home\"].apply(lambda x: 0.6 if x==\"Yes\" else 0)\n",
        "result[\"scor2\"] = result['internet_at_home'].apply(lambda x: 0.4 if x==\"Yes\" else 0)\n",
        "result[\"tot_sc\"] = result[\"scor1\"]+result[\"scor2\"]"
      ],
      "execution_count": 168,
      "outputs": []
    },
    {
      "cell_type": "code",
      "metadata": {
        "id": "5kjEYpWV46Wi",
        "colab": {
          "base_uri": "https://localhost:8080/",
          "height": 266
        },
        "outputId": "68014602-aa0e-4599-cd8e-11297dfa6656"
      },
      "source": [
        "df4 = pd.DataFrame()\n",
        "df4[\"scor\"] = result.groupby(\"Commune_FR\")[\"tot_sc\"].sum().sort_values(ascending=False)\n",
        "df4[\"qty\"]=result.groupby(\"Commune_FR\")[\"quest_id\"].nunique()\n",
        "#df3 = df4[df4['qty']>5]\n",
        "df4[\"moy\"]=df4[\"scor\"]/df4[\"qty\"]\n",
        "df3 = df4[df4['qty']>5]\n",
        "df3"
      ],
      "execution_count": 169,
      "outputs": [
        {
          "output_type": "execute_result",
          "data": {
            "text/html": [
              "<div>\n",
              "<style scoped>\n",
              "    .dataframe tbody tr th:only-of-type {\n",
              "        vertical-align: middle;\n",
              "    }\n",
              "\n",
              "    .dataframe tbody tr th {\n",
              "        vertical-align: top;\n",
              "    }\n",
              "\n",
              "    .dataframe thead th {\n",
              "        text-align: right;\n",
              "    }\n",
              "</style>\n",
              "<table border=\"1\" class=\"dataframe\">\n",
              "  <thead>\n",
              "    <tr style=\"text-align: right;\">\n",
              "      <th></th>\n",
              "      <th>scor</th>\n",
              "      <th>qty</th>\n",
              "      <th>moy</th>\n",
              "    </tr>\n",
              "    <tr>\n",
              "      <th>Commune_FR</th>\n",
              "      <th></th>\n",
              "      <th></th>\n",
              "      <th></th>\n",
              "    </tr>\n",
              "  </thead>\n",
              "  <tbody>\n",
              "    <tr>\n",
              "      <th>Delmas</th>\n",
              "      <td>64.0</td>\n",
              "      <td>71</td>\n",
              "      <td>0.901408</td>\n",
              "    </tr>\n",
              "    <tr>\n",
              "      <th>Port-au-Prince</th>\n",
              "      <td>55.0</td>\n",
              "      <td>59</td>\n",
              "      <td>0.932203</td>\n",
              "    </tr>\n",
              "    <tr>\n",
              "      <th>Pétion-Ville</th>\n",
              "      <td>25.0</td>\n",
              "      <td>29</td>\n",
              "      <td>0.862069</td>\n",
              "    </tr>\n",
              "    <tr>\n",
              "      <th>Carrefour</th>\n",
              "      <td>19.8</td>\n",
              "      <td>23</td>\n",
              "      <td>0.860870</td>\n",
              "    </tr>\n",
              "    <tr>\n",
              "      <th>Tabarre</th>\n",
              "      <td>10.2</td>\n",
              "      <td>11</td>\n",
              "      <td>0.927273</td>\n",
              "    </tr>\n",
              "    <tr>\n",
              "      <th>Croix-Des-Bouquets</th>\n",
              "      <td>9.2</td>\n",
              "      <td>10</td>\n",
              "      <td>0.920000</td>\n",
              "    </tr>\n",
              "  </tbody>\n",
              "</table>\n",
              "</div>"
            ],
            "text/plain": [
              "                    scor  qty       moy\n",
              "Commune_FR                             \n",
              "Delmas              64.0   71  0.901408\n",
              "Port-au-Prince      55.0   59  0.932203\n",
              "Pétion-Ville        25.0   29  0.862069\n",
              "Carrefour           19.8   23  0.860870\n",
              "Tabarre             10.2   11  0.927273\n",
              "Croix-Des-Bouquets   9.2   10  0.920000"
            ]
          },
          "metadata": {
            "tags": []
          },
          "execution_count": 169
        }
      ]
    },
    {
      "cell_type": "markdown",
      "metadata": {
        "id": "5BmFHQjFprao"
      },
      "source": [
        "We calculated scores for each individual based on whether or not they have a computer at home and whether or not they have access to the internet. We show the score for the top five commune with more applicants, we find that Port au Prince, Tabarre and Croix-des-Bouquest. We do not take the 30 person criterion as relevant given the virtual aspect. **Since the bootcamp will be conducted online, it is not at all important to take into account the residence of the applicant. We take it as long as it is technically equipped no matter where he is located.**\n"
      ]
    },
    {
      "cell_type": "code",
      "metadata": {
        "id": "Uevc2M4eBUZQ",
        "colab": {
          "base_uri": "https://localhost:8080/"
        },
        "outputId": "34fa284a-0741-4c2b-9aa3-045ba6eaa84b"
      },
      "source": [
        "listboth = []\n",
        "\n",
        "for c in df4.index:\n",
        "  df = result[result.Commune_FR== c]\n",
        "  df[\"both\"] = df.have_computer_home.apply(lambda x: 1 if x==\"Yes\" else 0) + df[\"internet_at_home\"].apply(lambda x: 1 if x==\"Yes\" else 0)\n",
        "  g = df[\"both\"].apply(lambda x: 1 if x==2 else 0)\n",
        "  n = g.sum()\n",
        "  listboth.append(n)\n",
        "g = df4.index\n",
        "for i in range(6):  \n",
        "  print(f\"{g[i]} has {listboth[i]} people who have both computer and internet.\\n\")\n",
        "print(f\"In total for all muncipalities, {sum(listboth)} have both computer and internet at home.\\n\\n\")"
      ],
      "execution_count": 170,
      "outputs": [
        {
          "output_type": "stream",
          "text": [
            "Delmas has 58 people who have both computer and internet.\n",
            "\n",
            "Port-au-Prince has 52 people who have both computer and internet.\n",
            "\n",
            "Pétion-Ville has 21 people who have both computer and internet.\n",
            "\n",
            "Carrefour has 17 people who have both computer and internet.\n",
            "\n",
            "Tabarre has 9 people who have both computer and internet.\n",
            "\n",
            "Croix-Des-Bouquets has 8 people who have both computer and internet.\n",
            "\n",
            "In total for all muncipalities, 202 have both computer and internet at home.\n",
            "\n",
            "\n"
          ],
          "name": "stdout"
        },
        {
          "output_type": "stream",
          "text": [
            "/usr/local/lib/python3.7/dist-packages/ipykernel_launcher.py:5: SettingWithCopyWarning: \n",
            "A value is trying to be set on a copy of a slice from a DataFrame.\n",
            "Try using .loc[row_indexer,col_indexer] = value instead\n",
            "\n",
            "See the caveats in the documentation: https://pandas.pydata.org/pandas-docs/stable/user_guide/indexing.html#returning-a-view-versus-a-copy\n",
            "  \"\"\"\n"
          ],
          "name": "stderr"
        }
      ]
    },
    {
      "cell_type": "code",
      "metadata": {
        "id": "OIYEB-q7OJFe",
        "colab": {
          "base_uri": "https://localhost:8080/"
        },
        "outputId": "b1539ceb-775c-49af-be38-ddbb8ff7dad8"
      },
      "source": [
        "for c in data_commune.index:\n",
        "   i = data_commune.at[c, \"qty\"]\n",
        "   j = data_commune.at[c, \"Have internet\"]\n",
        "   o = data_commune.at[c, \"Don't have internet\"]\n",
        "   l = data_commune.at[c, \"Have computer\"]\n",
        "   t = data_commune.at[c, \"Don't have computer\"]\n",
        "   print(f\"{c} has {i} applicants, {j} have internet and {o} don't have \\n{l} have computer and {t} don't have. \\n\")\n"
      ],
      "execution_count": 171,
      "outputs": [
        {
          "output_type": "stream",
          "text": [
            "Delmas has 71.0 applicants, 61.0 have internet and 10.0 don't have \n",
            "66.0 have computer and 5.0 don't have. \n",
            "\n",
            "Port-au-Prince has 59.0 applicants, 52.0 have internet and 6.0 don't have \n",
            "57.0 have computer and 1.0 don't have. \n",
            "\n",
            "Pétion-Ville has 29.0 applicants, 25.0 have internet and 3.0 don't have \n",
            "25.0 have computer and 4.0 don't have. \n",
            "\n",
            "Carrefour has 23.0 applicants, 18.0 have internet and 5.0 don't have \n",
            "21.0 have computer and 2.0 don't have. \n",
            "\n",
            "Tabarre has 11.0 applicants, 9.0 have internet and 2.0 don't have \n",
            "11.0 have computer and 0.0 don't have. \n",
            "\n",
            "Croix-Des-Bouquets has 10.0 applicants, 8.0 have internet and 2.0 don't have \n",
            "10.0 have computer and 0.0 don't have. \n",
            "\n",
            "Cap-Haïtien has 5.0 applicants, 3.0 have internet and 2.0 don't have \n",
            "5.0 have computer and 0.0 don't have. \n",
            "\n",
            "Saint-Marc has 4.0 applicants, 4.0 have internet and 0.0 don't have \n",
            "4.0 have computer and 0.0 don't have. \n",
            "\n",
            "Ouanaminthe has 3.0 applicants, 2.0 have internet and 1.0 don't have \n",
            "3.0 have computer and 0.0 don't have. \n",
            "\n",
            "Jacmel has 3.0 applicants, 3.0 have internet and 0.0 don't have \n",
            "3.0 have computer and 0.0 don't have. \n",
            "\n",
            "Verrettes has 3.0 applicants, 3.0 have internet and 0.0 don't have \n",
            "3.0 have computer and 0.0 don't have. \n",
            "\n",
            "Cité Soleil has 3.0 applicants, 3.0 have internet and 0.0 don't have \n",
            "3.0 have computer and 0.0 don't have. \n",
            "\n",
            "Mirebalais has 3.0 applicants, 3.0 have internet and 0.0 don't have \n",
            "3.0 have computer and 0.0 don't have. \n",
            "\n",
            "Léogâne has 2.0 applicants, 1.0 have internet and 1.0 don't have \n",
            "2.0 have computer and 0.0 don't have. \n",
            "\n",
            "Saint-Louis du Nord has 1.0 applicants, 1.0 have internet and 0.0 don't have \n",
            "1.0 have computer and 0.0 don't have. \n",
            "\n",
            "Port-Salut has 1.0 applicants, 0.0 have internet and 1.0 don't have \n",
            "0.0 have computer and 1.0 don't have. \n",
            "\n",
            "Plaine du Nord has 1.0 applicants, 0.0 have internet and 1.0 don't have \n",
            "0.0 have computer and 1.0 don't have. \n",
            "\n",
            "Petite Rivière de l'Artibonite has 1.0 applicants, 1.0 have internet and 0.0 don't have \n",
            "1.0 have computer and 0.0 don't have. \n",
            "\n",
            "Sainte Suzanne has 1.0 applicants, 1.0 have internet and 0.0 don't have \n",
            "1.0 have computer and 0.0 don't have. \n",
            "\n",
            "Petite Rivière de Nippes has 1.0 applicants, 1.0 have internet and 0.0 don't have \n",
            "1.0 have computer and 0.0 don't have. \n",
            "\n",
            "Petit-Goâve has 1.0 applicants, 1.0 have internet and 0.0 don't have \n",
            "1.0 have computer and 0.0 don't have. \n",
            "\n",
            "Aquin has 1.0 applicants, 1.0 have internet and 0.0 don't have \n",
            "1.0 have computer and 0.0 don't have. \n",
            "\n",
            "Mombin Crochu has 1.0 applicants, 1.0 have internet and 0.0 don't have \n",
            "1.0 have computer and 0.0 don't have. \n",
            "\n",
            "Limonade has 1.0 applicants, 1.0 have internet and 0.0 don't have \n",
            "1.0 have computer and 0.0 don't have. \n",
            "\n",
            "Kenscoff has 1.0 applicants, 1.0 have internet and 0.0 don't have \n",
            "1.0 have computer and 0.0 don't have. \n",
            "\n",
            "Hinche has 1.0 applicants, 1.0 have internet and 0.0 don't have \n",
            "1.0 have computer and 0.0 don't have. \n",
            "\n",
            "Gros Morne has 1.0 applicants, 1.0 have internet and 0.0 don't have \n",
            "1.0 have computer and 0.0 don't have. \n",
            "\n",
            "Gressier has 1.0 applicants, 0.0 have internet and 1.0 don't have \n",
            "1.0 have computer and 0.0 don't have. \n",
            "\n",
            "Grand-Goâve has 1.0 applicants, 1.0 have internet and 0.0 don't have \n",
            "1.0 have computer and 0.0 don't have. \n",
            "\n",
            "Ganthier has 1.0 applicants, 0.0 have internet and 1.0 don't have \n",
            "1.0 have computer and 0.0 don't have. \n",
            "\n",
            "Ferrier has 1.0 applicants, 1.0 have internet and 0.0 don't have \n",
            "1.0 have computer and 0.0 don't have. \n",
            "\n",
            "Dondon has 1.0 applicants, 0.0 have internet and 1.0 don't have \n",
            "1.0 have computer and 0.0 don't have. \n",
            "\n",
            "Cornillon / Grand Bois has 1.0 applicants, 1.0 have internet and 0.0 don't have \n",
            "1.0 have computer and 0.0 don't have. \n",
            "\n",
            "Caracol has 1.0 applicants, 1.0 have internet and 0.0 don't have \n",
            "1.0 have computer and 0.0 don't have. \n",
            "\n",
            "Les Cayes has 1.0 applicants, 0.0 have internet and 1.0 don't have \n",
            "0.0 have computer and 1.0 don't have. \n",
            "\n"
          ],
          "name": "stdout"
        }
      ]
    }
  ]
}